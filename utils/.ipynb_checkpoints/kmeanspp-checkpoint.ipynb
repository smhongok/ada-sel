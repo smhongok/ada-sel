{
 "cells": [
  {
   "cell_type": "code",
   "execution_count": null,
   "id": "3af66b6a-fb76-49bd-87d9-2359f301010f",
   "metadata": {},
   "outputs": [],
   "source": [
    "# code for k-means++ algorithm\n",
    "\n",
    "import numpy as np\n",
    "import glob\n",
    "import matplotlib.pyplot as plt\n",
    "from sklearn.cluster import KMeans\n",
    "\n",
    "file_path = '../dataset/multibrain_vmap/*.npy'\n",
    "n_clusters = 3\n",
    "\n",
    "file_list = sorted(glob.glob(file_path))\n",
    "vmaps = np.stack([np.load(f) for f in file_list])\n",
    "print(vmaps.shape, vmaps.dtype)"
   ]
  },
  {
   "cell_type": "code",
   "execution_count": null,
   "id": "f2eb57c1-9d2a-4b8f-851f-cc26567367fb",
   "metadata": {},
   "outputs": [],
   "source": [
    "vmaps_flatten = (vmaps).reshape(-1,320*320)\n",
    "norms = np.linalg.norm(vmaps_flatten, axis=1)\n",
    "vmaps_fn = vmaps_flatten / norms[:,np.newaxis]\n",
    "\n",
    "if n_clusters == 1:\n",
    "    centroids = np.expand_dims( vmaps_fn.mean(axis=0), axis=0)\n",
    "    ms = centroids.reshape(-1,320,320)\n",
    "    plt.imshow(ms[0])\n",
    "else:\n",
    "    kmeans = KMeans(n_clusters=n_clusters, random_state=1).fit(vmaps_fn)\n",
    "    labels = kmeans.labels_\n",
    "    centroids = kmeans.cluster_centers_\n",
    "    ms = centroids.reshape(-1,320,320)\n",
    "    fig, axs = plt.subplots(1, ms.shape[0], figsize=(10, 10))\n",
    "    for i in range(len(ms)):\n",
    "        axs[i].imshow(np.log(ms[i]))\n",
    "    plt.show()"
   ]
  },
  {
   "cell_type": "code",
   "execution_count": null,
   "id": "0fdb107a-270b-4c93-86e3-8b2386552b45",
   "metadata": {},
   "outputs": [],
   "source": [
    "for i in range(n_clusters):\n",
    "    np.save('../dataset/multibrain_vmap_kmeans/vmap_kmeans_'+str(i+1)+'of'+str(n_clusters)+'.npy',ms[i])"
   ]
  }
 ],
 "metadata": {
  "kernelspec": {
   "display_name": "Python 3 (ipykernel)",
   "language": "python",
   "name": "python3"
  },
  "language_info": {
   "codemirror_mode": {
    "name": "ipython",
    "version": 3
   },
   "file_extension": ".py",
   "mimetype": "text/x-python",
   "name": "python",
   "nbconvert_exporter": "python",
   "pygments_lexer": "ipython3",
   "version": "3.9.12"
  }
 },
 "nbformat": 4,
 "nbformat_minor": 5
}
